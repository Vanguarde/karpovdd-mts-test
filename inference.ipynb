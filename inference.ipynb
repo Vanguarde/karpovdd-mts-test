{
 "cells": [
  {
   "cell_type": "markdown",
   "id": "b38cac36-ead2-43e1-9bfd-e0754c31b394",
   "metadata": {},
   "source": [
    "Здесь реализовал пример использования модели для инференса. В задании это было довольно расплывчато, поэтому остановился на такой базовой демонстрации работы. Конечно, это должен быть еще и готовый rest сервис."
   ]
  },
  {
   "cell_type": "code",
   "execution_count": 1,
   "id": "e5bee784-cb44-4d55-bc2f-8bac9f9ec15e",
   "metadata": {},
   "outputs": [],
   "source": [
    "from transformers import AutoTokenizer\n",
    "from contrastive.model import DistilBertForSequenceClassification\n",
    "import torch\n",
    "\n",
    "THRESHOLD = -3951.605712890625\n",
    "TOKENIZER_PATH = 'runs/BERT_contrastive/checkpoint-7190/'\n",
    "MODEL_NAME = 'runs/BERT_contrastive/checkpoint-7190/model.pt'\n",
    "tokenizer = AutoTokenizer.from_pretrained(TOKENIZER_PATH, use_fast=True, max_length=512, padding='max_length', truncation=True, return_tensors='pt')"
   ]
  },
  {
   "cell_type": "code",
   "execution_count": 2,
   "id": "0e1f812f-f55a-4333-9e03-7b517306d76f",
   "metadata": {},
   "outputs": [],
   "source": [
    "device = torch.device(\"cuda\" if torch.cuda.is_available() else \"cpu\")\n",
    "model = torch.load(MODEL_NAME, map_location=device)"
   ]
  },
  {
   "cell_type": "code",
   "execution_count": 3,
   "id": "30511e62-b8a6-4e09-9191-56ac2f5ed462",
   "metadata": {},
   "outputs": [],
   "source": [
    "def infer(input_text):\n",
    "    sample = tokenizer(input_text, max_length=512, padding='max_length', truncation=True, return_tensors='pt')\n",
    "    model.eval()\n",
    "    with torch.no_grad():\n",
    "        ans = model(**sample.to(device))\n",
    "    \n",
    "    pooled = ans[2]\n",
    "    maha_score = []\n",
    "    for c in model.all_classes:\n",
    "        centered_pooled = pooled - model.class_mean[c].unsqueeze(0)\n",
    "        ms = torch.diag(centered_pooled @ model.class_var @ centered_pooled.t())\n",
    "        maha_score.append(ms)\n",
    "    maha_score = torch.stack(maha_score, dim=-1)\n",
    "    maha_score = maha_score.min(-1)[0]\n",
    "    maha_score = -maha_score\n",
    "    \n",
    "    if maha_score < THRESHOLD:\n",
    "        print(maha_score)\n",
    "        return 'ood'\n",
    "    else:\n",
    "        ans = torch.argmax(ans[0]).item()\n",
    "        return ans"
   ]
  },
  {
   "cell_type": "code",
   "execution_count": 4,
   "id": "ec171db7-3bd6-4af0-b1ea-61102682947f",
   "metadata": {},
   "outputs": [],
   "source": [
    "input_text = 'Фильм ориентирован на маленьких детей не старше 10 лет. Смешного в фильме совсем мало. В графе жанр нужно было написать просто детская сказка. Стиллер играет неплохо, только в сценарии, как я уже отмечал, почти нет смешных сцен.'"
   ]
  },
  {
   "cell_type": "code",
   "execution_count": 5,
   "id": "626ca9db-de04-4b37-acf7-b517beb35ae8",
   "metadata": {},
   "outputs": [
    {
     "name": "stdout",
     "output_type": "stream",
     "text": [
      "tensor([-11751.3408], device='cuda:0')\n"
     ]
    },
    {
     "data": {
      "text/plain": [
       "'ood'"
      ]
     },
     "execution_count": 5,
     "metadata": {},
     "output_type": "execute_result"
    }
   ],
   "source": [
    "infer(input_text)"
   ]
  },
  {
   "cell_type": "code",
   "execution_count": 6,
   "id": "2f54dde5-5783-49af-abe5-51657b9efec5",
   "metadata": {},
   "outputs": [],
   "source": [
    "input_text = 'убрать будильник который я только что поставил'"
   ]
  },
  {
   "cell_type": "code",
   "execution_count": 7,
   "id": "c52c7d48-0f99-4121-894f-cf67ae698fd4",
   "metadata": {},
   "outputs": [
    {
     "data": {
      "text/plain": [
       "52"
      ]
     },
     "execution_count": 7,
     "metadata": {},
     "output_type": "execute_result"
    }
   ],
   "source": [
    "infer(input_text)"
   ]
  },
  {
   "cell_type": "code",
   "execution_count": 8,
   "id": "25cdeced-66f3-4a0b-84f9-1650224e1843",
   "metadata": {},
   "outputs": [
    {
     "data": {
      "text/plain": [
       "45"
      ]
     },
     "execution_count": 8,
     "metadata": {},
     "output_type": "execute_result"
    }
   ],
   "source": [
    "input_text = 'включи мой рок плейлист'\n",
    "infer(input_text)"
   ]
  },
  {
   "cell_type": "code",
   "execution_count": 9,
   "id": "d6753ead-bf80-4e41-be3d-abd9493bb3a2",
   "metadata": {},
   "outputs": [
    {
     "data": {
      "text/plain": [
       "13"
      ]
     },
     "execution_count": 9,
     "metadata": {},
     "output_type": "execute_result"
    }
   ],
   "source": [
    "input_text = 'какая погода'\n",
    "infer(input_text)"
   ]
  },
  {
   "cell_type": "code",
   "execution_count": 10,
   "id": "27e540ce-f887-47b3-b3c1-4c176c4d5e75",
   "metadata": {},
   "outputs": [
    {
     "data": {
      "text/plain": [
       "25"
      ]
     },
     "execution_count": 10,
     "metadata": {},
     "output_type": "execute_result"
    }
   ],
   "source": [
    "input_text = 'расскажи мне смешную шутку'\n",
    "infer(input_text)"
   ]
  },
  {
   "cell_type": "code",
   "execution_count": 11,
   "id": "ad29bc80-0d5a-45cb-ac43-1b3f3e60776f",
   "metadata": {},
   "outputs": [
    {
     "name": "stdout",
     "output_type": "stream",
     "text": [
      "tensor([-14325.5186], device='cuda:0')\n"
     ]
    },
    {
     "data": {
      "text/plain": [
       "'ood'"
      ]
     },
     "execution_count": 11,
     "metadata": {},
     "output_type": "execute_result"
    }
   ],
   "source": [
    "input_text = 'Абсолютно не понравился. Фильм о великовозрастных жеребцах-халявщиках. Так же на халяву они понаходили своих прекрасных богатых невест. Сюжет предсказуемый с первой до последней минуты, юмор традиционный для таких комедий и несмешной. Одно хорошо: к фильму напрашивается фраза Любовь спасёт мир.'\n",
    "infer(input_text)"
   ]
  },
  {
   "cell_type": "code",
   "execution_count": 12,
   "id": "501d1685-565e-4933-8dc2-9c6cef562a08",
   "metadata": {},
   "outputs": [
    {
     "name": "stdout",
     "output_type": "stream",
     "text": [
      "tensor([-12721.0625], device='cuda:0')\n"
     ]
    },
    {
     "data": {
      "text/plain": [
       "'ood'"
      ]
     },
     "execution_count": 12,
     "metadata": {},
     "output_type": "execute_result"
    }
   ],
   "source": [
    "input_text = 'Абсолютно не понравился. Фильм о великовозрастных жеребцах-халявщиках. Так же на халяву они понаходили своих прекрасных богатых невест. Сюжет предсказуемый с первой до последней минуты, юмор традиционный для таких комедий и несмешной. Одно хорошо: к фильму напрашивается фраза Любовь спасёт мир.'\n",
    "infer(input_text.lower())"
   ]
  }
 ],
 "metadata": {
  "kernelspec": {
   "display_name": "Python 3 (ipykernel)",
   "language": "python",
   "name": "python3"
  },
  "language_info": {
   "codemirror_mode": {
    "name": "ipython",
    "version": 3
   },
   "file_extension": ".py",
   "mimetype": "text/x-python",
   "name": "python",
   "nbconvert_exporter": "python",
   "pygments_lexer": "ipython3",
   "version": "3.11.6"
  }
 },
 "nbformat": 4,
 "nbformat_minor": 5
}
